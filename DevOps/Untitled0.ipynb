{
 "metadata": {
  "name": "",
  "signature": "sha256:f582b15c31294fec80f4a551bc54308e5b91580db97294d7612b234b5ef435bd"
 },
 "nbformat": 3,
 "nbformat_minor": 0,
 "worksheets": [
  {
   "cells": [
    {
     "cell_type": "code",
     "collapsed": false,
     "input": [
      "import matplotlib.pyplot as plt\n",
      "import matplotlib.patches as mpatches\n",
      "\n",
      "dpi = 80\n",
      "fig = plt.figure(figsize=(4, 1.6),dpi=dpi)\n",
      "\n",
      "def add_background():\n",
      "    ax = fig.add_axes([0., 0., 1., 1.], axisbg='black')\n",
      "    rect = mpatches.Rectangle([0, .86], 0.05, 0.14, ec=\"none\", facecolor='black')\n",
      "    ax.add_patch(rect)\n",
      "    rect = mpatches.Rectangle([0.05, .86], 0.05, 0.14, ec=\"none\", facecolor='gray')\n",
      "    ax.add_patch(rect)\n",
      "    rect = mpatches.Rectangle([0, 0.72], 0.05, 0.14, ec=\"none\", facecolor='gray')\n",
      "    ax.add_patch(rect)\n",
      "    rect = mpatches.Rectangle([.95, 0], 0.05, 0.14, ec=\"none\", facecolor='black')\n",
      "    ax.add_patch(rect)\n",
      "    rect = mpatches.Rectangle([.90, 0], 0.05, 0.14, ec=\"none\", facecolor='gray')\n",
      "    ax.add_patch(rect)\n",
      "    rect = mpatches.Rectangle([.95, .14], 0.05, 0.14, ec=\"none\", facecolor='gray')\n",
      "    ax.add_patch(rect)\n",
      "    ax.set_axis_off()\n",
      "    return ax\n",
      "\n",
      "def add_insight_text(ax):\n",
      "    ax.text(0.52, 0.5, 'INSIGHT', color='black', fontsize=45,\n",
      "               ha='center', va='center', alpha=1.0, transform=ax.transAxes)\n",
      "\n",
      "\n",
      "if __name__ == '__main__':\n",
      "    main_axes = add_background()\n",
      "    add_insight_text(main_axes)\n",
      "    plt.show()"
     ],
     "language": "python",
     "metadata": {},
     "outputs": [
      {
       "metadata": {},
       "output_type": "display_data",
       "png": "[encoded data removed]",
       "text": [
        "<matplotlib.figure.Figure at 0x108595310>"
       ]
      }
     ],
     "prompt_number": 1
    },
    {
     "cell_type": "code",
     "collapsed": false,
     "input": [],
     "language": "python",
     "metadata": {},
     "outputs": []
    }
   ],
   "metadata": {}
  }
 ]
}