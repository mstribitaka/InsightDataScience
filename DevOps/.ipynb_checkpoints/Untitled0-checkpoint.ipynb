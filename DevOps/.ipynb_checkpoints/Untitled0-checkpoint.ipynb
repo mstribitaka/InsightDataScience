{
 "metadata": {
  "name": "",
  "signature": "sha256:a47d570d731780a4aea151e8a7fae2c51e9e9a322a89ae99de5fd3ae868c3a4f"
 },
 "nbformat": 3,
 "nbformat_minor": 0,
 "worksheets": []
}